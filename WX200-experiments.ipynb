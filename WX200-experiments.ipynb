{
 "cells": [
  {
   "cell_type": "code",
   "execution_count": 1,
   "metadata": {},
   "outputs": [],
   "source": [
    "import math\n",
    "import numpy as np\n",
    "from typing import Tuple\n",
    "import matplotlib.pyplot as plt\n",
    "\n",
    "import roboticstoolbox as rtb\n",
    "import spatialmath as sm # provides objects for representing transformations\n",
    "from swift import Swift # lightweight browser-based simulator which comes with the toolbox\n",
    "import spatialgeometry as sg # utility package for dealing with geometric objects"
   ]
  },
  {
   "cell_type": "code",
   "execution_count": 2,
   "metadata": {},
   "outputs": [
    {
     "name": "stdout",
     "output_type": "stream",
     "text": [
      "ERobot: wx200 (by Interbotix), 8 joints (RRRRRRPP), 4 branches, dynamics, geometry, collision\n",
      "┌──────┬─────────────────────┬───────┬───────────────────┬───────────────────────────────────────────┐\n",
      "│ link │        link         │ joint │      parent       │            ETS: parent to link            │\n",
      "├──────┼─────────────────────┼───────┼───────────────────┼───────────────────────────────────────────┤\n",
      "│    0 │ /base_link          │       │ BASE              │ SE3()                                     │\n",
      "│    1 │ /shoulder_link      │     0 │ /base_link        │ SE3(0, 0, 0.0716) ⊕ Rz(q0)                │\n",
      "│    2 │ /upper_arm_link     │     1 │ /shoulder_link    │ SE3(0, 0, 0.03865) ⊕ Ry(q1)               │\n",
      "│    3 │ /forearm_link       │     2 │ /upper_arm_link   │ SE3(0.05, 0, 0.2; 180°, -0°, 0°) ⊕ Ry(q2) │\n",
      "│    4 │ /wrist_link         │     3 │ /forearm_link     │ SE3(0.2, 0, 0) ⊕ Ry(q3)                   │\n",
      "│    5 │ /gripper_link       │     4 │ /wrist_link       │ SE3(0.065, 0, 0; -180°, -0°, 0°) ⊕ Rx(q4) │\n",
      "│    6 │ /ee_arm_link        │       │ /gripper_link     │ SE3(0.043, 0, 0)                          │\n",
      "│    7 │ @/gripper_prop_link │     5 │ /ee_arm_link      │ SE3(0.0055, 0, 0) ⊕ Rx(q5)                │\n",
      "│    8 │ /gripper_bar_link   │       │ /ee_arm_link      │ SE3()                                     │\n",
      "│    9 │ /fingers_link       │       │ /gripper_bar_link │ SE3(0.023, 0, 0)                          │\n",
      "│   10 │ @/left_finger_link  │     6 │ /fingers_link     │ SE3() ⊕ ty(q6)                            │\n",
      "│   11 │ @/right_finger_link │     7 │ /fingers_link     │ SE3() ⊕ ty(q7)                            │\n",
      "│   12 │ @/ee_gripper_link   │       │ /fingers_link     │ SE3(0.02757, 0, 0)                        │\n",
      "└──────┴─────────────────────┴───────┴───────────────────┴───────────────────────────────────────────┘\n",
      "\n",
      "┌──────┬─────┬────────┬─────┬───────┬─────┬───────┬────────┬────┐\n",
      "│ name │ q0  │ q1     │ q2  │ q3    │ q4  │ q5    │ q6     │ q7 │\n",
      "├──────┼─────┼────────┼─────┼───────┼─────┼───────┼────────┼────┤\n",
      "│   qr │  0° │ -17.2° │  0° │ -126° │  0° │  115° │  0.785 │  0 │\n",
      "│   qz │  0° │  0°    │  0° │  0°   │  0° │  0°   │  0     │  0 │\n",
      "└──────┴─────┴────────┴─────┴───────┴─────┴───────┴────────┴────┘\n",
      "\n"
     ]
    }
   ],
   "source": [
    "robot = rtb.models.wx200()\n",
    "print(robot)"
   ]
  },
  {
   "cell_type": "code",
   "execution_count": 3,
   "metadata": {},
   "outputs": [
    {
     "data": {
      "text/html": [
       "\n",
       "        <iframe\n",
       "            width=\"600\"\n",
       "            height=\"400\"\n",
       "            src=\"http://localhost:52000/?53000\"\n",
       "            frameborder=\"0\"\n",
       "            allowfullscreen\n",
       "            \n",
       "        ></iframe>\n",
       "        "
      ],
      "text/plain": [
       "<IPython.lib.display.IFrame at 0x7feb08948730>"
      ]
     },
     "metadata": {},
     "output_type": "display_data"
    },
    {
     "data": {
      "text/plain": [
       "2"
      ]
     },
     "execution_count": 3,
     "metadata": {},
     "output_type": "execute_result"
    }
   ],
   "source": [
    "# Make the environment\n",
    "env = Swift()\n",
    "\n",
    "# Launch the simulator, will open a browser tab in your default\n",
    "# browser (chrome is recommended)\n",
    "# The realtime flag will ask the simulator to simulate as close as\n",
    "# possible to realtime as apposed to as fast as possible\n",
    "# We can also choose to see Swift within the notebook using the\n",
    "# browser=\"notebook\" flag\n",
    "env.launch(realtime=True, browser=\"notebook\")\n",
    "\n",
    "# We can then add our robot to the simulator envionment\n",
    "env.add(ob=robot)\n",
    "\n",
    "# end-effector axes\n",
    "ee_axes = sg.Axes(0.1)\n",
    "\n",
    "# goal axes\n",
    "goal_axes = sg.Axes(0.1)\n",
    "\n",
    "# Add the axes to the environment\n",
    "env.add(ee_axes)\n",
    "env.add(goal_axes) "
   ]
  },
  {
   "cell_type": "code",
   "execution_count": 4,
   "metadata": {},
   "outputs": [],
   "source": [
    "# We can set the pose of the shape using the `.T` attribute.\n",
    "# This pose can be either a spatialmat SE3 or a 4x4 ndarray\n",
    "ee_axes.T = robot.fkine(robot.q, end='/ee_arm_link')\n",
    "\n",
    "# Set the goal axes to something along the x axis\n",
    "goal_axes.T = sm.SE3.Trans(0.5, 0.0, 0.5)\n",
    "\n",
    "# step the environment to view the changes\n",
    "env.step(0.05)"
   ]
  },
  {
   "cell_type": "code",
   "execution_count": 5,
   "metadata": {},
   "outputs": [],
   "source": [
    "# Set all joint velocities to 0.1 rad/s\n",
    "robot.qd = np.array([0.1, 0.1, 0.1, 0.1, 0.1, 0.1, 0.1, 0.1])\n",
    "\n",
    "# Step the environment 100 times with a time step of 50 milliseconds\n",
    "for _ in range(100):\n",
    "    env.step(0.05)"
   ]
  },
  {
   "cell_type": "code",
   "execution_count": 6,
   "metadata": {},
   "outputs": [
    {
     "data": {
      "text/html": [
       "\n",
       "        <iframe\n",
       "            width=\"600\"\n",
       "            height=\"400\"\n",
       "            src=\"http://localhost:52001/?53001\"\n",
       "            frameborder=\"0\"\n",
       "            allowfullscreen\n",
       "            \n",
       "        ></iframe>\n",
       "        "
      ],
      "text/plain": [
       "<IPython.lib.display.IFrame at 0x7feb02f19090>"
      ]
     },
     "metadata": {},
     "output_type": "display_data"
    }
   ],
   "source": [
    "# Make a new environment and add our robot\n",
    "env = Swift()\n",
    "env.launch(realtime=True, browser=\"notebook\")\n",
    "env.add(robot)\n",
    "\n",
    "# Change the robot configuration to the ready position\n",
    "robot.qr = np.zeros(8)\n",
    "robot.q = robot.qr\n",
    "dq_size = len(robot.qd) # number of actuators defined in rtb (faultily says 8 for WX200 arm, should be 6 including the fingers)\n",
    "action_size = 5 # number of actuators we're actually using (5 for WX200 arm, since we dont use the fingers)\n",
    "\n",
    "# Specify our desired end-effector velocity\n",
    "ev = [0.0, 0.0, 0.0, 0.5, 0.0, 0.0]\n",
    "\n",
    "# Specify our timestep\n",
    "dt = 0.001\n",
    "duration = 5\n",
    "\n",
    "max_qd = np.zeros(8)\n",
    "qd_history = []\n",
    "\n",
    "# Step the sim to view the robot in this configuration\n",
    "env.step(dt)\n",
    "\n",
    "# Run the simulation for [duration] seconds\n",
    "for _ in range(int(duration/dt)):\n",
    "\n",
    "\t# Work out the manipulator Jacobian using the current robot configuration\n",
    "\tJ = robot.jacob0(robot.q, end='/ee_arm_link')\n",
    "\n",
    "\t# Since the robot has 7 joints, the Jacobian is not square, therefore we must\n",
    "\t# use the pseudoinverse (the pinv method)\n",
    "\tJ_pinv = np.linalg.pinv(J)\n",
    "\t\n",
    "\t# Calculate the required joint velocities and apply to the robot\n",
    "\trobot.qd = np.concatenate([J_pinv @ ev, np.zeros(dq_size - action_size)])\n",
    "\t# robot.qd = np.zeros(8)\n",
    "\t# robot.qd[5] = 1.0\n",
    " \n",
    "\tmax_qd = np.max(np.vstack([abs(robot.qd), max_qd]), axis=0)\n",
    "\tqd_history.append(np.copy(robot.q))\n",
    "\n",
    "\t# Step the simulator by dt seconds\n",
    "\tenv.step(dt)\n",
    " \n",
    "qd_history = np.array(qd_history)"
   ]
  },
  {
   "cell_type": "code",
   "execution_count": 7,
   "metadata": {},
   "outputs": [
    {
     "data": {
      "image/png": "[encoded data removed]",
      "text/plain": [
       "<Figure size 640x480 with 1 Axes>"
      ]
     },
     "metadata": {},
     "output_type": "display_data"
    }
   ],
   "source": [
    "plt.plot(qd_history, label=np.arange(8))\n",
    "plt.legend()\n",
    "plt.show()"
   ]
  },
  {
   "cell_type": "code",
   "execution_count": 8,
   "metadata": {},
   "outputs": [],
   "source": [
    "def angle_axis(T: np.ndarray, Td: np.ndarray) -> np.ndarray:\n",
    "    \"\"\"\n",
    "    Returns the error vector between T and Td in angle-axis form.\n",
    "\n",
    "    :param T: The current pose\n",
    "    :param Tep: The desired pose\n",
    "\n",
    "    :returns e: the error vector between T and Td\n",
    "    \"\"\"\n",
    "\n",
    "    e = np.empty(6)\n",
    "\n",
    "    # The position error\n",
    "    e[:3] = Td[:3, -1] - T[:3, -1]\n",
    "\n",
    "    R = Td[:3, :3] @ T[:3, :3].T\n",
    "\n",
    "    li = np.array([R[2, 1] - R[1, 2], R[0, 2] - R[2, 0], R[1, 0] - R[0, 1]])\n",
    "\n",
    "    if np.linalg.norm(li) < 1e-6:\n",
    "        # If li is a zero vector (or very close to it)\n",
    "\n",
    "        # diagonal matrix case\n",
    "        if np.trace(R) > 0:\n",
    "            # (1,1,1) case\n",
    "            a = np.zeros((3,))\n",
    "        else:\n",
    "            a = np.pi / 2 * (np.diag(R) + 1)\n",
    "    else:\n",
    "        # non-diagonal matrix case\n",
    "        ln = np.linalg.norm(li)\n",
    "        a = math.atan2(ln, np.trace(R) - 1) * li / ln\n",
    "\n",
    "    e[3:] = a\n",
    "\n",
    "    return e\n",
    "\n",
    "def p_servo(\n",
    "    Te: np.ndarray, Tep: np.ndarray, gain: np.ndarray, threshold: float = 0.1\n",
    ") -> Tuple[np.ndarray, bool]:\n",
    "    \"\"\"\n",
    "    Position-based servoing.\n",
    "\n",
    "    Returns the end-effector velocity which will cause the robot to approach\n",
    "    the desired pose.\n",
    "\n",
    "    :param Te: The current pose of the end-effecor in the base frame.\n",
    "    :type wTe: ndarray\n",
    "    :param Tep: The desired pose of the end-effecor in the base frame.\n",
    "    :type wTep: ndarray\n",
    "    :param gain: The gain for the controller. A vector corresponding to each\n",
    "        Cartesian axis.\n",
    "    :type gain: array-like\n",
    "    :param threshold: The threshold or tolerance of the final error between\n",
    "        the robot's pose and desired pose\n",
    "    :type threshold: float\n",
    "\n",
    "    :returns v: The velocity of the end-effector which will casue the robot\n",
    "        to approach Tep\n",
    "    :rtype v: ndarray(6)\n",
    "    :returns arrived: True if the robot is within the threshold of the final\n",
    "        pose\n",
    "    :rtype arrived: bool\n",
    "    \"\"\"\n",
    "\n",
    "    # Calculate the pose error vector\n",
    "    e = angle_axis(Te, Tep)\n",
    "\n",
    "    # Construct our gain diagonal matrix\n",
    "    k = np.diag(gain)\n",
    "\n",
    "    # Calculate our desired end0effector velocity\n",
    "    v = k @ e\n",
    "\n",
    "    # Check if we have arrived\n",
    "    arrived = True if np.sum(np.abs(e)) < threshold else False\n",
    "\n",
    "    return v, arrived\n"
   ]
  },
  {
   "cell_type": "code",
   "execution_count": 9,
   "metadata": {},
   "outputs": [],
   "source": [
    "init_robotbase = robot._T.copy()"
   ]
  },
  {
   "cell_type": "code",
   "execution_count": 10,
   "metadata": {},
   "outputs": [
    {
     "data": {
      "text/plain": [
       "array([[1., 0., 0., 0.],\n",
       "       [0., 1., 0., 0.],\n",
       "       [0., 0., 1., 0.],\n",
       "       [0., 0., 0., 1.]])"
      ]
     },
     "execution_count": 10,
     "metadata": {},
     "output_type": "execute_result"
    }
   ],
   "source": [
    "init_robotbase"
   ]
  },
  {
   "cell_type": "code",
   "execution_count": 11,
   "metadata": {},
   "outputs": [
    {
     "data": {
      "text/plain": [
       "(5, 6)"
      ]
     },
     "execution_count": 11,
     "metadata": {},
     "output_type": "execute_result"
    }
   ],
   "source": [
    "J_pinv.shape"
   ]
  },
  {
   "cell_type": "code",
   "execution_count": 12,
   "metadata": {},
   "outputs": [],
   "source": [
    "Te = robot.fkine(robot.q, end='/ee_arm_link')"
   ]
  },
  {
   "cell_type": "code",
   "execution_count": 13,
   "metadata": {},
   "outputs": [
    {
     "name": "stdout",
     "output_type": "stream",
     "text": [
      "[[ 9.99999991e-01 -1.12893523e-04 -7.83733852e-05  3.58019996e-01]\n",
      " [-1.37348690e-04 -8.01203453e-01 -5.98392019e-01 -4.91735780e-05]\n",
      " [ 4.76155649e-06  5.98392024e-01 -8.01203461e-01  3.10255799e-01]\n",
      " [ 0.00000000e+00  0.00000000e+00  0.00000000e+00  1.00000000e+00]]\n",
      "[[ 9.99999991e-01 -1.12893523e-04 -7.83733852e-05  3.58019996e-01]\n",
      " [-1.37348690e-04 -8.01203453e-01 -5.98392019e-01 -4.91735780e-05]\n",
      " [ 4.76155649e-06  5.98392024e-01 -8.01203461e-01  3.10255799e-01]\n",
      " [ 0.00000000e+00  0.00000000e+00  0.00000000e+00  1.00000000e+00]]\n"
     ]
    }
   ],
   "source": [
    "print(robot._T*Te)\n",
    "print(Te*robot._T)"
   ]
  },
  {
   "cell_type": "markdown",
   "metadata": {},
   "source": [
    "# Using Jacobian and P controller to reach EE target pose"
   ]
  },
  {
   "cell_type": "code",
   "execution_count": 14,
   "metadata": {},
   "outputs": [
    {
     "data": {
      "text/html": [
       "\n",
       "        <iframe\n",
       "            width=\"600\"\n",
       "            height=\"400\"\n",
       "            src=\"http://localhost:52002/?53002\"\n",
       "            frameborder=\"0\"\n",
       "            allowfullscreen\n",
       "            \n",
       "        ></iframe>\n",
       "        "
      ],
      "text/plain": [
       "<IPython.lib.display.IFrame at 0x7feb016aa080>"
      ]
     },
     "metadata": {},
     "output_type": "display_data"
    }
   ],
   "source": [
    "# Make a new environment and add our robot\n",
    "env = Swift()\n",
    "env.launch(realtime=True, browser=\"notebook\")\n",
    "env.add(robot)\n",
    "env.add(ee_axes)\n",
    "env.add(goal_axes)\n",
    "\n",
    "# Change the robot configuration to the ready position\n",
    "robot._T = init_robotbase.copy()\n",
    "robot.qr = np.zeros(8)\n",
    "robot.q = robot.qr\n",
    "\n",
    "# Step the sim to view the robot in this configuration\n",
    "env.step(0)\n",
    "\n",
    "# A variable to specify when to break the loop\n",
    "arrived = False\n",
    "\n",
    "# Specify the gain for the p_servo method\n",
    "# gain = np.array([1.0, 1.0, 1.0, 1.0, 1.0, 1.0])\n",
    "gain = 1 * np.array([1.0, 1.0, 1.0, 0.0, 0.0, 0.0])\n",
    "k_d = 0\n",
    "\n",
    "# Specify our timestep\n",
    "dt = 0.001\n",
    "duration = 10\n",
    "\n",
    "# Tep = robot._T * sm.SE3.RPY(0.0, 0.0, 0.0) * sm.SE3.Trans(0.35, 0.0, 0.2)\n",
    "# Tep = robot._T * sm.SE3.RPY(0.0, 0.0, 0.0) * sm.SE3.Trans(0.35, 0.0, 0.2)\n",
    "\n",
    "# turn from forward to leftward\n",
    "Tep = sm.SE3.RPY(0.0, 0.0, np.pi/2) * robot.fkine(robot.q, end='/ee_arm_link').A\n",
    "\n",
    "# turn from rightwrad to forward\n",
    "robot._T = robot._T * sm.SE3.RPY(0.0, 0.0, -np.pi/2)\n",
    "Tep = sm.SE3.RPY(0.0, 0.0, np.pi/6) * robot.fkine(robot.q, end='/ee_arm_link').A\n",
    "\n",
    "# baseMotionV = sm.SE3.Trans(0,-0.05*dt,0)\n",
    "# baseMotionA = sm.SE3.RPY(0.0, 0.0, np.pi/20*dt)\n",
    "# Tep = Tep.A\n",
    "\n",
    "# Set the goal axes to Tep\n",
    "goal_axes.T = Tep\n",
    "time = 0\n",
    "error_history = []\n",
    "max_qd = np.zeros(8)\n",
    "\n",
    "# Run the simulation for duration seconds\n",
    "for _ in range(int(duration/dt)):\n",
    "\t# baseMotionV = sm.SE3.Trans(-np.sin(2*np.pi*time/5)*-0.05*dt,\n",
    "\t# \t\t\t\t\t\t\tnp.cos(2*np.pi*time/5)*-0.05*dt,\n",
    "\t# \t\t\t\t\t\t\t0)\n",
    "\t# baseMotionV = sm.SE3.Trans(-np.sin(2*np.pi*time/5)*-0.05*dt,\n",
    "\t# \t\t\t\t\t\t\t0,\n",
    "\t# \t\t\t\t\t\t\t0) \n",
    " \n",
    "\t# baseMotionV = sm.SE3.Trans(0.00*dt, 0, 0)# * sm.SE3.RPY(0.0, 0.0, 2*np.pi/10*dt)\n",
    "\t\n",
    "\t# Work out the base frame manipulator Jacobian using the current robot configuration\n",
    "\tJ = robot.jacob0_analytical(robot.q, end='/ee_arm_link')\n",
    "\n",
    "\t# The end-effector pose of the robot (using .A to get a numpy array instead of an SE3 object)\n",
    "\tTe = robot.fkine(robot.q, end='/ee_arm_link').A\n",
    "\n",
    "\t# Since the robot has 5 joints, the Jacobian is not square, therefore we must\n",
    "\t# use the pseudoinverse (the pinv method)\n",
    "\tJ_pinv = np.linalg.pinv(J)\n",
    "\n",
    "\t# Calculate the required end-effector velocity and whether the robot has arrived\n",
    "\tev, arrived = p_servo(Te, Tep, gain=gain, threshold=0.001)\n",
    "\n",
    "\t# account for moving base's velocity in determining desired EE velocity\n",
    "\t# ev += -k_d * np.concatenate([baseMotionV.A[:3, -1]/dt, np.zeros(3)])\n",
    " \n",
    "\t# Calculate the required joint velocities and apply to the robot\n",
    "\trobot.qd = np.concatenate([J_pinv @ ev, np.zeros(dq_size - action_size)])\n",
    "\t# maxVal = np.abs(robot.qd).max()\n",
    "\t# if maxVal > 0.01:\n",
    "\t# \trobot.qd /= abs(maxVal)\n",
    "\t# \trobot.qd *= 0.05\n",
    " \t\n",
    "\tmax_qd = np.max(np.vstack([abs(robot.qd), max_qd]), axis=0)\n",
    "\n",
    "\t# Update the ee axes\n",
    "\tee_axes.T = Te\n",
    "\t\n",
    "\t# robot._T = robot._T * baseMotionV\n",
    "\n",
    "\t# store error as \n",
    "\terror_history.append(np.linalg.norm(Te[:3, -1] - Tep[:3, -1]))\n",
    "\n",
    "\t# Step the simulator by dt seconds\n",
    "\tenv.step(dt)\n",
    "\ttime += dt"
   ]
  },
  {
   "cell_type": "markdown",
   "metadata": {},
   "source": [
    "# Using Numerical Jacobian and P controller to reach EE target pose"
   ]
  },
  {
   "cell_type": "code",
   "execution_count": 15,
   "metadata": {},
   "outputs": [
    {
     "data": {
      "text/plain": [
       "(5, 6)"
      ]
     },
     "execution_count": 15,
     "metadata": {},
     "output_type": "execute_result"
    }
   ],
   "source": [
    "J_pinv.shape"
   ]
  },
  {
   "cell_type": "code",
   "execution_count": 17,
   "metadata": {},
   "outputs": [
    {
     "data": {
      "text/html": [
       "\n",
       "        <iframe\n",
       "            width=\"600\"\n",
       "            height=\"400\"\n",
       "            src=\"http://localhost:52003/?53003\"\n",
       "            frameborder=\"0\"\n",
       "            allowfullscreen\n",
       "            \n",
       "        ></iframe>\n",
       "        "
      ],
      "text/plain": [
       "<IPython.lib.display.IFrame at 0x7feae03bba60>"
      ]
     },
     "metadata": {},
     "output_type": "display_data"
    }
   ],
   "source": [
    "# Make a new environment and add our robot\n",
    "env = Swift()\n",
    "env.launch(realtime=True, browser=\"notebook\")\n",
    "env.add(robot)\n",
    "env.add(ee_axes)\n",
    "env.add(goal_axes)\n",
    "\n",
    "# Change the robot configuration to the ready position\n",
    "robot._T = init_robotbase.copy()\n",
    "robot.qr = np.zeros(8)\n",
    "robot.q = robot.qr\n",
    "\n",
    "# Step the sim to view the robot in this configuration\n",
    "env.step(0)\n",
    "\n",
    "# A variable to specify when to break the loop\n",
    "arrived = False\n",
    "\n",
    "action_size = 4\n",
    "\n",
    "# Specify the gain for the p_servo method\n",
    "k_p = 10\n",
    "k_d = 100\n",
    "# gain = k_p * np.array([1.0, 1.0, 1.0, 0.0, 0.0, 0.0])\n",
    "\n",
    "# Specify our timestep\n",
    "dt = 0.001\n",
    "duration = 10\n",
    "\n",
    "# Tep = robot._T * sm.SE3.RPY(0.0, 0.0, 0.0) * sm.SE3.Trans(0.35, 0.0, 0.2)\n",
    "# Tep = robot._T * sm.SE3.RPY(0.0, 0.0, 0.0) * sm.SE3.Trans(0.35, 0.0, 0.2)\n",
    "\n",
    "# turn from forward to leftward\n",
    "# Tep = sm.SE3.RPY(0.0, 0.0, np.pi/2) * robot.fkine(robot.q, end='/ee_arm_link').A\n",
    "\n",
    "# # turn from rightward to forward\n",
    "robot._T = robot._T * sm.SE3.RPY(0.0, 0.0, -np.pi/2)\n",
    "Tep = sm.SE3.RPY(0.0, 0.0, np.pi/2) * sm.SE3.Trans(0.2, 0.0, 0.2)\n",
    "\n",
    "robot.q[0] = np.pi/3\n",
    "# baseMotionV = sm.SE3.Trans(0,-0.05*dt,0)\n",
    "# baseMotionA = sm.SE3.RPY(0.0, 0.0, np.pi/20*dt)\n",
    "# Tep = Tep.A\n",
    "\n",
    "# Set the goal axes to Tep\n",
    "goal_axes.T = Tep\n",
    "time = 0\n",
    "error_history = []\n",
    "max_qd = np.zeros(8)\n",
    "\n",
    "# Run the simulation for duration seconds\n",
    "for _ in range(int(duration/dt)):\n",
    "\t# baseMotionV = sm.SE3.Trans(-np.sin(2*np.pi*time/5)*-0.05*dt,\n",
    "\t# \t\t\t\t\t\t\tnp.cos(2*np.pi*time/5)*-0.05*dt,\n",
    "\t# \t\t\t\t\t\t\t0)\n",
    "\t# baseMotionV = sm.SE3.Trans(np.sin(2*np.pi*time/1.25)*0.4*dt,\n",
    "\t# \t\t\t\t\t\t\t0,\n",
    "\t# \t\t\t\t\t\t\t0) \n",
    " \n",
    "\tbaseMotionV = sm.SE3.Trans(0.1*dt, 0, 0) * sm.SE3.RPY(0.0, 0.0, 2*np.pi/duration*dt)\n",
    "\t\n",
    "\t# Work out the base frame manipulator Jacobian using the current robot configuration\n",
    "\n",
    "\tTe = robot.fkine(robot.q, end='/ee_arm_link').A\n",
    "\tJ = []\n",
    "\tepsilon = 1e-5\n",
    "\tfor i in range(action_size):\n",
    "\t\tperturbation = np.zeros(dq_size)\n",
    "\t\tperturbation[i] = epsilon\n",
    "\t\tpartial_derivative = (robot.fkine(robot.q, end='/ee_arm_link').A[:3,-1] - \n",
    "\t\t\t\t\t\t\t\trobot.fkine(robot.q + perturbation, end='/ee_arm_link').A[:3,-1]) / epsilon\n",
    "\t\tJ.append(partial_derivative)\n",
    "\tJ = np.array(J).T\n",
    "\n",
    "\t# J = robot.jacob0_analytical(robot.q, end='/ee_arm_link')\n",
    "\n",
    "\t# The end-effector pose of the robot (using .A to get a numpy array instead of an SE3 object)\n",
    "\t# Te = robot.fkine(robot.q, end='/ee_arm_link').A\n",
    "\n",
    "\t# Since the robot has 5 joints, the Jacobian is not square, therefore we must\n",
    "\t# use the pseudoinverse (the pinv method)\n",
    "\tJ_pinv = np.linalg.pinv(J)\n",
    "\n",
    "\t# Calculate the required end-effector velocity and whether the robot has arrived\n",
    "\t# ev, arrived = p_servo(Te, Tep, gain=gain, threshold=0.001)\n",
    "\tev = Te[:3, -1] - Tep.A[:3, -1]\n",
    "\tev += k_d * baseMotionV.A[:3,-1]\n",
    "\n",
    "\t# account for moving base's velocity in determining desired EE velocity\n",
    "\t# ev += -k_d * np.concatenate([baseMotionV.A[:3, -1]/dt, np.zeros(3)])\n",
    " \n",
    "\t# Calculate the required joint velocities and apply to the robot\n",
    "\trobot.qd = k_p * np.concatenate([J_pinv @ ev, np.zeros(dq_size - action_size)])\n",
    "\t# maxVal = np.abs(robot.qd).max()\n",
    "\t# if maxVal > 0.01:\n",
    "\t# \trobot.qd /= abs(maxVal)\n",
    "\t# \trobot.qd *= 0.05\n",
    " \t\n",
    "\tmax_qd = np.max(np.vstack([abs(robot.qd), max_qd]), axis=0)\n",
    "\n",
    "\t# Update the ee axes\n",
    "\tee_axes.T = Te\n",
    "\t\n",
    "\trobot._T = robot._T * baseMotionV\n",
    "\n",
    "\t# store error as \n",
    "\terror_history.append(np.linalg.norm(Te[:3, -1] - Tep.A[:3, -1]))\n",
    "\n",
    "\t# Step the simulator by dt seconds\n",
    "\tenv.step(dt)\n",
    "\ttime += dt"
   ]
  },
  {
   "cell_type": "code",
   "execution_count": 18,
   "metadata": {},
   "outputs": [
    {
     "data": {
      "text/plain": [
       "array([0.0001, 0.    , 0.    ])"
      ]
     },
     "execution_count": 18,
     "metadata": {},
     "output_type": "execute_result"
    }
   ],
   "source": [
    "baseMotionV.A[:3,-1]"
   ]
  },
  {
   "cell_type": "code",
   "execution_count": 19,
   "metadata": {},
   "outputs": [],
   "source": [
    "# plt.imshow(robot.jacobe(robot.q, end='/ee_arm_link'))"
   ]
  },
  {
   "cell_type": "code",
   "execution_count": 20,
   "metadata": {},
   "outputs": [
    {
     "data": {
      "image/png": "[encoded data removed]",
      "text/plain": [
       "<Figure size 640x480 with 1 Axes>"
      ]
     },
     "metadata": {},
     "output_type": "display_data"
    },
    {
     "name": "stdout",
     "output_type": "stream",
     "text": [
      "RMSE: 0.04273160016467634\n"
     ]
    }
   ],
   "source": [
    "error_history = np.array(error_history)\n",
    "plt.plot(error_history)\n",
    "plt.show()\n",
    "\n",
    "print('RMSE:', np.sqrt((error_history**2).mean()))"
   ]
  }
 ],
 "metadata": {
  "kernelspec": {
   "display_name": "dkt-env",
   "language": "python",
   "name": "python3"
  },
  "language_info": {
   "codemirror_mode": {
    "name": "ipython",
    "version": 3
   },
   "file_extension": ".py",
   "mimetype": "text/x-python",
   "name": "python",
   "nbconvert_exporter": "python",
   "pygments_lexer": "ipython3",
   "version": "3.10.12"
  }
 },
 "nbformat": 4,
 "nbformat_minor": 2
}
