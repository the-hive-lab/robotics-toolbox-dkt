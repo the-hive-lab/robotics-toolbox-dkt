{
 "cells": [
  {
   "cell_type": "code",
   "execution_count": 5,
   "metadata": {},
   "outputs": [],
   "source": [
    "from rrt_star import *\n",
    "import numpy as np\n",
    "import matplotlib.pyplot as plt"
   ]
  },
  {
   "cell_type": "code",
   "execution_count": 7,
   "metadata": {},
   "outputs": [],
   "source": [
    "import roboticstoolbox as rtb\n",
    "import spatialmath as sm # provides objects for representing transformations\n",
    "from swift import Swift # lightweight browser-based simulator which comes with the toolbox\n",
    "import spatialgeometry as sg # utility package for dealing with geometric objects"
   ]
  },
  {
   "cell_type": "code",
   "execution_count": 8,
   "metadata": {},
   "outputs": [
    {
     "name": "stdout",
     "output_type": "stream",
     "text": [
      "ERobot: wx200 (by Interbotix), 8 joints (RRRRRRPP), 4 branches, dynamics, geometry, collision\n",
      "┌──────┬─────────────────────┬───────┬───────────────────┬───────────────────────────────────────────┐\n",
      "│ link │        link         │ joint │      parent       │            ETS: parent to link            │\n",
      "├──────┼─────────────────────┼───────┼───────────────────┼───────────────────────────────────────────┤\n",
      "│    0 │ /base_link          │       │ BASE              │ SE3()                                     │\n",
      "│    1 │ /shoulder_link      │     0 │ /base_link        │ SE3(0, 0, 0.0716) ⊕ Rz(q0)                │\n",
      "│    2 │ /upper_arm_link     │     1 │ /shoulder_link    │ SE3(0, 0, 0.03865) ⊕ Ry(q1)               │\n",
      "│    3 │ /forearm_link       │     2 │ /upper_arm_link   │ SE3(0.05, 0, 0.2; 180°, -0°, 0°) ⊕ Ry(q2) │\n",
      "│    4 │ /wrist_link         │     3 │ /forearm_link     │ SE3(0.2, 0, 0) ⊕ Ry(q3)                   │\n",
      "│    5 │ /gripper_link       │     4 │ /wrist_link       │ SE3(0.065, 0, 0; -180°, -0°, 0°) ⊕ Rx(q4) │\n",
      "│    6 │ /ee_arm_link        │       │ /gripper_link     │ SE3(0.043, 0, 0)                          │\n",
      "│    7 │ @/gripper_prop_link │     5 │ /ee_arm_link      │ SE3(0.0055, 0, 0) ⊕ Rx(q5)                │\n",
      "│    8 │ /gripper_bar_link   │       │ /ee_arm_link      │ SE3()                                     │\n",
      "│    9 │ /fingers_link       │       │ /gripper_bar_link │ SE3(0.023, 0, 0)                          │\n",
      "│   10 │ @/left_finger_link  │     6 │ /fingers_link     │ SE3() ⊕ ty(q6)                            │\n",
      "│   11 │ @/right_finger_link │     7 │ /fingers_link     │ SE3() ⊕ ty(q7)                            │\n",
      "│   12 │ @/ee_gripper_link   │       │ /fingers_link     │ SE3(0.02757, 0, 0)                        │\n",
      "└──────┴─────────────────────┴───────┴───────────────────┴───────────────────────────────────────────┘\n",
      "\n",
      "┌──────┬─────┬────────┬─────┬───────┬─────┬───────┬────────┬────┐\n",
      "│ name │ q0  │ q1     │ q2  │ q3    │ q4  │ q5    │ q6     │ q7 │\n",
      "├──────┼─────┼────────┼─────┼───────┼─────┼───────┼────────┼────┤\n",
      "│   qr │  0° │ -17.2° │  0° │ -126° │  0° │  115° │  0.785 │  0 │\n",
      "│   qz │  0° │  0°    │  0° │  0°   │  0° │  0°   │  0     │  0 │\n",
      "└──────┴─────┴────────┴─────┴───────┴─────┴───────┴────────┴────┘\n",
      "\n"
     ]
    }
   ],
   "source": [
    "robot = rtb.models.wx200()\n",
    "print(robot)\n",
    "useful_links = lambda robot: [robot.links[i] for i in (0,1,2,3,4)]"
   ]
  },
  {
   "cell_type": "code",
   "execution_count": 9,
   "metadata": {},
   "outputs": [
    {
     "data": {
      "text/plain": [
       "False"
      ]
     },
     "execution_count": 9,
     "metadata": {},
     "output_type": "execute_result"
    }
   ],
   "source": [
    "def has_pairwise_collision(links):\n",
    "\tn_links = len(links)\n",
    "\tfor i1 in range(n_links):\n",
    "\t\tlink1 = links[i1]\n",
    "\t\tfor i2 in list(range(0,i1-1))+list(range(i1+2,n_links)):\n",
    "\t\t\tlink2 = links[i2]\n",
    "\t\t\tfor collider1 in link1.collision:\n",
    "\t\t\t\tif collider1.stype == 'mesh':\n",
    "\t\t\t\t\tcontinue\n",
    "\t\t\t\tfor collider2 in link2.collision:\n",
    "\t\t\t\t\tif collider2.stype == 'mesh':\n",
    "\t\t\t\t\t\tcontinue\n",
    "\t\t\t\t\tif collider1.iscollided(collider2):\n",
    "\t\t\t\t\t\tprint(collider1, '\\n with \\n', collider2)\n",
    "\t\t\t\t\t\treturn True\n",
    "\n",
    "\treturn False\n",
    "\n",
    "has_pairwise_collision(useful_links(robot))"
   ]
  },
  {
   "cell_type": "code",
   "execution_count": 12,
   "metadata": {},
   "outputs": [
    {
     "name": "stdout",
     "output_type": "stream",
     "text": [
      "Goal reached in 155 iterations.\n",
      "Found path:\n",
      "[0, 0, 0, 0, 0, 0]\n",
      "[0.21181259516888687, -0.27174345627430885, -0.21937765680249494, -0.12348404309787679, 0.24025527986786538, 0.10096263562118481]\n",
      "[0.9176338778960929, 0.02495947700553075, -0.6706102633928002, -0.25285098959727753, 0.5812092078723523, 0.11992856225760434]\n",
      "[1.5966497851907748, 0.40612743742021545, -0.6373491556729917, -0.6056803100440354, 0.151279682849491, 0.015806014552707456]\n",
      "[2.0326489759280704, 0.99320685796408, -0.37019416713807674, -0.5790274193871967, 0.33010594244958935, -0.07510677463308332]\n",
      "[2.1786464154971856, 1.7290132846263715, -0.2306857717272085, -0.6914154272280709, 0.6277800972035504, 0.05234898409058117]\n",
      "[2.4051768555836004, 2.0114667436588314, -0.10431056213200154, -0.4751758313068848, 0.48457761033815616, 0.24120552887002467]\n",
      "[2.8598371991206917, 2.2595332728623956, -0.19082404674151815, -0.2588959324095693, 0.45053252442037567, 0.7026591046200269]\n",
      "[3.053216506720144, 2.5547281786549605, -0.025250169998398964, -0.037373660918927354, 0.2853132801481658, 0.8499010377860774]\n",
      "[3.4399751219190478, 3.1451179902400903, 0.30589758348783946, 0.4056708820623566, -0.04512520839625392, 1.1443849041181782]\n",
      "[3.6333544295185, 3.440312896032655, 0.47147146023095865, 0.6271931535529985, -0.21034445266846377, 1.2916268372842286]\n",
      "[3.826733737117952, 3.73550780182522, 0.6370453369740778, 0.8487154250436405, -0.3755636969406736, 1.438868770450279]\n",
      "[4, 4, 0.7853981633974483, 1.0471975511965976, -0.5235987755982988, 1.5707963267948966]\n"
     ]
    }
   ],
   "source": [
    "start_config = [0, 0, 0, 0, 0, 0]  # Initial 6D configuration\n",
    "goal_config = [4, 4, np.pi/4, np.pi/3, -np.pi/6, np.pi/2]  # Goal 6D configuration\n",
    "\n",
    "rrt_star = RRTStar(start=start_config, goal=goal_config)\n",
    "path = rrt_star.rrt_star()\n",
    "\n",
    "if path:\n",
    "\tprint(\"Found path:\")\n",
    "\tfor config in path:\n",
    "\t\tprint(config)\n",
    "else:\n",
    "\tprint(\"Path not found.\")"
   ]
  },
  {
   "cell_type": "code",
   "execution_count": 13,
   "metadata": {},
   "outputs": [
    {
     "data": {
      "text/plain": [
       "array([0., 0., 0., 0., 0., 0., 0., 0.])"
      ]
     },
     "execution_count": 13,
     "metadata": {},
     "output_type": "execute_result"
    }
   ],
   "source": [
    "robot.q"
   ]
  },
  {
   "cell_type": "code",
   "execution_count": 15,
   "metadata": {},
   "outputs": [
    {
     "data": {
      "text/html": [
       "\n",
       "        <iframe\n",
       "            width=\"600\"\n",
       "            height=\"400\"\n",
       "            src=\"http://localhost:52005/?53005\"\n",
       "            frameborder=\"0\"\n",
       "            allowfullscreen\n",
       "            \n",
       "        ></iframe>\n",
       "        "
      ],
      "text/plain": [
       "<IPython.lib.display.IFrame at 0x7f2fea030df0>"
      ]
     },
     "metadata": {},
     "output_type": "display_data"
    }
   ],
   "source": [
    "ee_axes = sg.Axes(0.1)\n",
    "goal_axes = sg.Axes(0.1)\n",
    "\n",
    "# Make a new environment and add our robot\n",
    "env = Swift()\n",
    "env.launch(realtime=True, browser=\"notebook\")\n",
    "env.add(robot)\n",
    "env.add(ee_axes)\n",
    "env.add(goal_axes)\n",
    "\n",
    "# Change the robot configuration to the ready position\n",
    "robot._T = np.diag(np.ones(4))\n",
    "robot.qr = np.zeros(8)\n",
    "robot.q = robot.qr\n",
    "\n",
    "# Step the sim to view the robot in this configuration\n",
    "env.step(0)\n",
    "\n",
    "action_size = 4\n",
    "\n",
    "# Specify our timestep\n",
    "dt = 0.5\n",
    "\n",
    "# # # turn from rightward to forward\n",
    "# robot._T = robot._T * sm.SE3.RPY(0.0, 0.0, -np.pi/2)\n",
    "# Tep = sm.SE3.RPY(0.0, 0.0, np.pi/2) * sm.SE3.Trans(0.2, 0.0, 0.2)\n",
    "# robot.q[0] = np.pi/3\n",
    "\n",
    "# Set the goal axes to Tep\n",
    "# goal_axes.T = Tep\n",
    "\n",
    "time = 0\n",
    "# error_history = []\n",
    "max_qd = np.zeros(8)\n",
    "\n",
    "# Run the simulation for duration seconds\n",
    "for step_i in range(len(path)):\n",
    "\trobot.q = np.hstack([np.zeros(2), path[step_i]])\n",
    "\n",
    "\t# Update the ee axes\n",
    "\tee_axes.T = robot.fkine(robot.q, end='/ee_arm_link').A\n",
    "\t\n",
    "\t# Step the simulator by dt seconds\n",
    "\tenv.step(dt)\n",
    "\ttime += dt"
   ]
  }
 ],
 "metadata": {
  "kernelspec": {
   "display_name": "dkt-env",
   "language": "python",
   "name": "python3"
  },
  "language_info": {
   "codemirror_mode": {
    "name": "ipython",
    "version": 3
   },
   "file_extension": ".py",
   "mimetype": "text/x-python",
   "name": "python",
   "nbconvert_exporter": "python",
   "pygments_lexer": "ipython3",
   "version": "3.10.12"
  }
 },
 "nbformat": 4,
 "nbformat_minor": 2
}
