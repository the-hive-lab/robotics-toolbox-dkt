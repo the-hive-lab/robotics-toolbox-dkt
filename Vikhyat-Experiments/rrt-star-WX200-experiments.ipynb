{
 "cells": [
  {
   "cell_type": "code",
   "execution_count": 1,
   "metadata": {},
   "outputs": [],
   "source": [
    "from rrt_star import *\n",
    "import numpy as np\n",
    "import matplotlib.pyplot as plt"
   ]
  },
  {
   "cell_type": "code",
   "execution_count": 2,
   "metadata": {},
   "outputs": [],
   "source": [
    "import roboticstoolbox as rtb\n",
    "import spatialmath as sm # provides objects for representing transformations\n",
    "from swift import Swift # lightweight browser-based simulator which comes with the toolbox\n",
    "import spatialgeometry as sg # utility package for dealing with geometric objects"
   ]
  },
  {
   "cell_type": "code",
   "execution_count": 3,
   "metadata": {},
   "outputs": [
    {
     "name": "stdout",
     "output_type": "stream",
     "text": [
      "ERobot: wx200 (by Interbotix), 8 joints (RRRRRRPP), 4 branches, dynamics, geometry, collision\n",
      "┌──────┬─────────────────────┬───────┬───────────────────┬───────────────────────────────────────────┐\n",
      "│ link │        link         │ joint │      parent       │            ETS: parent to link            │\n",
      "├──────┼─────────────────────┼───────┼───────────────────┼───────────────────────────────────────────┤\n",
      "│    0 │ /base_link          │       │ BASE              │ SE3()                                     │\n",
      "│    1 │ /shoulder_link      │     0 │ /base_link        │ SE3(0, 0, 0.0716) ⊕ Rz(q0)                │\n",
      "│    2 │ /upper_arm_link     │     1 │ /shoulder_link    │ SE3(0, 0, 0.03865) ⊕ Ry(q1)               │\n",
      "│    3 │ /forearm_link       │     2 │ /upper_arm_link   │ SE3(0.05, 0, 0.2; 180°, -0°, 0°) ⊕ Ry(q2) │\n",
      "│    4 │ /wrist_link         │     3 │ /forearm_link     │ SE3(0.2, 0, 0) ⊕ Ry(q3)                   │\n",
      "│    5 │ /gripper_link       │     4 │ /wrist_link       │ SE3(0.065, 0, 0; -180°, -0°, 0°) ⊕ Rx(q4) │\n",
      "│    6 │ /ee_arm_link        │       │ /gripper_link     │ SE3(0.043, 0, 0)                          │\n",
      "│    7 │ @/gripper_prop_link │     5 │ /ee_arm_link      │ SE3(0.0055, 0, 0) ⊕ Rx(q5)                │\n",
      "│    8 │ /gripper_bar_link   │       │ /ee_arm_link      │ SE3()                                     │\n",
      "│    9 │ /fingers_link       │       │ /gripper_bar_link │ SE3(0.023, 0, 0)                          │\n",
      "│   10 │ @/left_finger_link  │     6 │ /fingers_link     │ SE3() ⊕ ty(q6)                            │\n",
      "│   11 │ @/right_finger_link │     7 │ /fingers_link     │ SE3() ⊕ ty(q7)                            │\n",
      "│   12 │ @/ee_gripper_link   │       │ /fingers_link     │ SE3(0.02757, 0, 0)                        │\n",
      "└──────┴─────────────────────┴───────┴───────────────────┴───────────────────────────────────────────┘\n",
      "\n",
      "┌──────┬─────┬────────┬─────┬───────┬─────┬───────┬────────┬────┐\n",
      "│ name │ q0  │ q1     │ q2  │ q3    │ q4  │ q5    │ q6     │ q7 │\n",
      "├──────┼─────┼────────┼─────┼───────┼─────┼───────┼────────┼────┤\n",
      "│   qr │  0° │ -17.2° │  0° │ -126° │  0° │  115° │  0.785 │  0 │\n",
      "│   qz │  0° │  0°    │  0° │  0°   │  0° │  0°   │  0     │  0 │\n",
      "└──────┴─────┴────────┴─────┴───────┴─────┴───────┴────────┴────┘\n",
      "\n"
     ]
    }
   ],
   "source": [
    "robot = rtb.models.wx200()\n",
    "print(robot)\n",
    "useful_links = lambda robot: [robot.links[i] for i in (0,1,2,3,4)]"
   ]
  },
  {
   "cell_type": "code",
   "execution_count": 4,
   "metadata": {},
   "outputs": [
    {
     "data": {
      "text/plain": [
       "False"
      ]
     },
     "execution_count": 4,
     "metadata": {},
     "output_type": "execute_result"
    }
   ],
   "source": [
    "def has_pairwise_collision(links):\n",
    "\tn_links = len(links)\n",
    "\tfor i1 in range(n_links):\n",
    "\t\tlink1 = links[i1]\n",
    "\t\tfor i2 in list(range(0,i1-1))+list(range(i1+2,n_links)):\n",
    "\t\t\tlink2 = links[i2]\n",
    "\t\t\tfor collider1 in link1.collision:\n",
    "\t\t\t\tif collider1.stype == 'mesh':\n",
    "\t\t\t\t\tcontinue\n",
    "\t\t\t\tfor collider2 in link2.collision:\n",
    "\t\t\t\t\tif collider2.stype == 'mesh':\n",
    "\t\t\t\t\t\tcontinue\n",
    "\t\t\t\t\tif collider1.iscollided(collider2):\n",
    "\t\t\t\t\t\tprint(collider1, '\\n with \\n', collider2)\n",
    "\t\t\t\t\t\treturn True\n",
    "\n",
    "\treturn False\n",
    "\n",
    "has_pairwise_collision(useful_links(robot))"
   ]
  },
  {
   "cell_type": "code",
   "execution_count": 10,
   "metadata": {},
   "outputs": [
    {
     "name": "stdout",
     "output_type": "stream",
     "text": [
      "Goal reached in 342 iterations.\n",
      "Found path:\n",
      "[ 0.          0.06544985  0.19634954 -0.3010693   0.          0.\n",
      "  0.037      -0.037     ]\n",
      "[0.04942258665314923, 0.09510339894167698, 0.2218845439534891, -0.26729719508936994, 0.04942258665314923, 0.04942258665314923, 0.0368269513227428, -0.03648085396822841]\n",
      "[0.7310771377616941, 0.23012873696552044, 0.28332334773633666, -0.03443462702381026, 0.33093128612640765, 0.6441826559291475, 0.03368146400371832, -0.03127827294684427]\n",
      "[1.118568988169904, 0.5227812620206882, 0.5253722023018081, 0.3523165551386553, 0.8977999473663282, 1.1081089130634152, 0.03266375467767614, -0.02647523473667026]\n",
      "[1.4339197783925237, 0.7507320579479693, 0.8045563097030664, 0.6677052529327987, 1.4268471692334936, 1.441870632283838, 0.03089825254924907, -0.02423945182340989]\n",
      "[ 1.57079633  1.00792764  1.00792764  0.77230819  1.57079633  1.57079633\n",
      "  0.0315     -0.0205    ]\n"
     ]
    }
   ],
   "source": [
    "start_config = robot.q # Initial 6D configuration\n",
    "goal_config = (1/4*robot.qlim[0]+3/4*robot.qlim[1])  # Goal 6D configuration\n",
    "\n",
    "rrt_star = RRTStar(start=start_config, goal=goal_config, minCoords=robot.qlim[0], maxCoords=robot.qlim[1], step_size=0.1)\n",
    "path = rrt_star.rrt_star()\n",
    "\n",
    "if path:\n",
    "\tprint(\"Found path:\")\n",
    "\tfor config in path:\n",
    "\t\tprint(config)\n",
    "else:\n",
    "\tprint(\"Path not found.\")"
   ]
  },
  {
   "cell_type": "code",
   "execution_count": 16,
   "metadata": {},
   "outputs": [
    {
     "data": {
      "text/html": [
       "\n",
       "        <iframe\n",
       "            width=\"600\"\n",
       "            height=\"400\"\n",
       "            src=\"http://localhost:52005/?53005\"\n",
       "            frameborder=\"0\"\n",
       "            allowfullscreen\n",
       "            \n",
       "        ></iframe>\n",
       "        "
      ],
      "text/plain": [
       "<IPython.lib.display.IFrame at 0x7f0ba66ed690>"
      ]
     },
     "metadata": {},
     "output_type": "display_data"
    }
   ],
   "source": [
    "ee_axes = sg.Axes(0.1)\n",
    "goal_axes = sg.Axes(0.1)\n",
    "goal_axes.T = robot.fkine(goal_config, end='/ee_arm_link')\n",
    "\n",
    "# Make a new environment and add our robot\n",
    "env = Swift()\n",
    "env.launch(realtime=True, browser=\"notebook\")\n",
    "env.add(robot)\n",
    "env.add(ee_axes)\n",
    "env.add(goal_axes)\n",
    "\n",
    "# Change the robot configuration to the ready position\n",
    "# robot._T = np.diag(np.ones(4))\n",
    "robot.qr = np.zeros(8)\n",
    "robot.q = robot.qr\n",
    "\n",
    "# Step the sim to view the robot in this configuration\n",
    "env.step(0.01)\n",
    "\n",
    "dt = 0.5\n",
    "time = 0\n",
    "\n",
    "for step_i in range(len(path)):\n",
    "\trobot.q = path[step_i]\n",
    "\n",
    "\t# Update the ee axes\n",
    "\tee_axes.T = robot.fkine(robot.q, end='/ee_arm_link').A\n",
    "\t\n",
    "\t# Step the simulator by dt seconds\n",
    "\tenv.step(dt)\n",
    "\ttime += dt"
   ]
  },
  {
   "cell_type": "code",
   "execution_count": null,
   "metadata": {},
   "outputs": [],
   "source": []
  }
 ],
 "metadata": {
  "kernelspec": {
   "display_name": "dkt-env",
   "language": "python",
   "name": "python3"
  },
  "language_info": {
   "codemirror_mode": {
    "name": "ipython",
    "version": 3
   },
   "file_extension": ".py",
   "mimetype": "text/x-python",
   "name": "python",
   "nbconvert_exporter": "python",
   "pygments_lexer": "ipython3",
   "version": "3.10.12"
  }
 },
 "nbformat": 4,
 "nbformat_minor": 2
}
