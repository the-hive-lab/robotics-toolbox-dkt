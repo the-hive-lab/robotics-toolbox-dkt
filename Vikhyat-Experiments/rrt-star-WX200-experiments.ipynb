{
 "cells": [
  {
   "cell_type": "code",
   "execution_count": 10,
   "metadata": {},
   "outputs": [],
   "source": [
    "from rrt_star import *\n",
    "import numpy as np\n",
    "import matplotlib.pyplot as plt"
   ]
  },
  {
   "cell_type": "code",
   "execution_count": 2,
   "metadata": {},
   "outputs": [],
   "source": [
    "import roboticstoolbox as rtb\n",
    "import spatialmath as sm # provides objects for representing transformations\n",
    "from swift import Swift # lightweight browser-based simulator which comes with the toolbox\n",
    "import spatialgeometry as sg # utility package for dealing with geometric objects"
   ]
  },
  {
   "cell_type": "code",
   "execution_count": 3,
   "metadata": {},
   "outputs": [
    {
     "name": "stdout",
     "output_type": "stream",
     "text": [
      "ERobot: wx200 (by Interbotix), 8 joints (RRRRRRPP), 4 branches, dynamics, geometry, collision\n",
      "┌──────┬─────────────────────┬───────┬───────────────────┬───────────────────────────────────────────┐\n",
      "│ link │        link         │ joint │      parent       │            ETS: parent to link            │\n",
      "├──────┼─────────────────────┼───────┼───────────────────┼───────────────────────────────────────────┤\n",
      "│    0 │ /base_link          │       │ BASE              │ SE3()                                     │\n",
      "│    1 │ /shoulder_link      │     0 │ /base_link        │ SE3(0, 0, 0.0716) ⊕ Rz(q0)                │\n",
      "│    2 │ /upper_arm_link     │     1 │ /shoulder_link    │ SE3(0, 0, 0.03865) ⊕ Ry(q1)               │\n",
      "│    3 │ /forearm_link       │     2 │ /upper_arm_link   │ SE3(0.05, 0, 0.2; 180°, -0°, 0°) ⊕ Ry(q2) │\n",
      "│    4 │ /wrist_link         │     3 │ /forearm_link     │ SE3(0.2, 0, 0) ⊕ Ry(q3)                   │\n",
      "│    5 │ /gripper_link       │     4 │ /wrist_link       │ SE3(0.065, 0, 0; -180°, -0°, 0°) ⊕ Rx(q4) │\n",
      "│    6 │ /ee_arm_link        │       │ /gripper_link     │ SE3(0.043, 0, 0)                          │\n",
      "│    7 │ @/gripper_prop_link │     5 │ /ee_arm_link      │ SE3(0.0055, 0, 0) ⊕ Rx(q5)                │\n",
      "│    8 │ /gripper_bar_link   │       │ /ee_arm_link      │ SE3()                                     │\n",
      "│    9 │ /fingers_link       │       │ /gripper_bar_link │ SE3(0.023, 0, 0)                          │\n",
      "│   10 │ @/left_finger_link  │     6 │ /fingers_link     │ SE3() ⊕ ty(q6)                            │\n",
      "│   11 │ @/right_finger_link │     7 │ /fingers_link     │ SE3() ⊕ ty(q7)                            │\n",
      "│   12 │ @/ee_gripper_link   │       │ /fingers_link     │ SE3(0.02757, 0, 0)                        │\n",
      "└──────┴─────────────────────┴───────┴───────────────────┴───────────────────────────────────────────┘\n",
      "\n",
      "┌──────┬─────┬────────┬─────┬───────┬─────┬───────┬────────┬────┐\n",
      "│ name │ q0  │ q1     │ q2  │ q3    │ q4  │ q5    │ q6     │ q7 │\n",
      "├──────┼─────┼────────┼─────┼───────┼─────┼───────┼────────┼────┤\n",
      "│   qr │  0° │ -17.2° │  0° │ -126° │  0° │  115° │  0.785 │  0 │\n",
      "│   qz │  0° │  0°    │  0° │  0°   │  0° │  0°   │  0     │  0 │\n",
      "└──────┴─────┴────────┴─────┴───────┴─────┴───────┴────────┴────┘\n",
      "\n"
     ]
    }
   ],
   "source": [
    "robot = rtb.models.wx200()\n",
    "print(robot)\n",
    "useful_config_idxs = [0,1,2,3,4]\n",
    "useful_links = lambda robot: [robot.links[i] for i in useful_config_idxs]\n",
    "def pad(q):\n",
    "\treturn list(q) + [0]*3"
   ]
  },
  {
   "cell_type": "code",
   "execution_count": 4,
   "metadata": {},
   "outputs": [],
   "source": [
    "def has_pairwise_collision(q):\n",
    "\trobot.q = pad(q)\n",
    "\tlinks = useful_links(robot)\n",
    "\tn_links = len(links)\n",
    "\tfor i1 in range(n_links):\n",
    "\t\tlink1 = links[i1]\n",
    "\t\tfor i2 in list(range(0,i1-1))+list(range(i1+2,n_links)):\n",
    "\t\t\tlink2 = links[i2]\n",
    "\t\t\tfor collider1 in link1.collision:\n",
    "\t\t\t\tif collider1.stype == 'mesh':\n",
    "\t\t\t\t\tcontinue\n",
    "\t\t\t\tfor collider2 in link2.collision:\n",
    "\t\t\t\t\tif collider2.stype == 'mesh':\n",
    "\t\t\t\t\t\tcontinue\n",
    "\t\t\t\t\tif collider1.iscollided(collider2):\n",
    "\t\t\t\t\t\t# print(collider1, '\\n with \\n', collider2)\n",
    "\t\t\t\t\t\treturn True\n",
    "\n",
    "\treturn False\n",
    "\n",
    "# has_pairwise_collision(robot.q[useful_config_idxs])"
   ]
  },
  {
   "cell_type": "code",
   "execution_count": 5,
   "metadata": {},
   "outputs": [],
   "source": [
    "goal_ee_T = robot.fkine((1/4*robot.qlim[0]+3/4*robot.qlim[1]), end='/ee_arm_link')\n",
    "goal_estimate = robot.ikine_QP(Tep=goal_ee_T, end='/ee_arm_link').q\n",
    "\n",
    "def goal_test(q):\n",
    "\tee_T = robot.fkine(pad(q), end='/ee_arm_link')\n",
    "\treturn np.sum(np.abs(ee_T-goal_ee_T)) < 0.01"
   ]
  },
  {
   "cell_type": "code",
   "execution_count": 6,
   "metadata": {},
   "outputs": [
    {
     "data": {
      "text/plain": [
       "array([ 0.        , -0.3       ,  0.        , -2.2       ,  0.        ,\n",
       "        2.        ,  0.78539816,  0.        ])"
      ]
     },
     "execution_count": 6,
     "metadata": {},
     "output_type": "execute_result"
    }
   ],
   "source": [
    "robot.qr"
   ]
  },
  {
   "cell_type": "code",
   "execution_count": 14,
   "metadata": {},
   "outputs": [
    {
     "name": "stdout",
     "output_type": "stream",
     "text": [
      "Goal reached in 562 iterations.\n",
      "Found path:\n",
      "[0. 0. 0. 0. 0.]\n",
      "[-0.2156095   0.09819067 -0.09659831 -0.06958035 -0.28297593]\n",
      "[-0.35632744  0.05607277 -0.02679422 -0.24129619 -0.50826538]\n",
      "[-0.55329232  0.00805691 -0.09311917 -0.34865684 -0.60958045]\n",
      "[-0.70470057 -0.08832827 -0.0630303  -0.47138385 -0.79789026]\n",
      "[-0.76048162 -0.35953205  0.00785622 -0.63238877 -0.91129001]\n",
      "[-0.96991673 -0.5980427   0.13139768 -0.65701516 -0.80714628]\n",
      "[-1.21864615 -0.78372948  0.24053656 -0.60398049 -0.88542083]\n",
      "[-1.26535556 -0.91807622  0.34618786 -0.58547067 -0.97632944]\n",
      "[-1.39776059 -1.15045728  0.57475329 -0.55768791 -1.15883407]\n",
      "[-1.4395247  -1.40410347  0.76601456 -0.56348679 -1.32992311]\n",
      "[-1.48648407 -1.54450727  0.86297465 -0.52805217 -1.4160899 ]\n",
      "[-1.57079633 -1.79659243  1.03705968 -0.4644318  -1.57079633]\n",
      "[-1.57079633 -1.79659243  1.03705968 -0.4644318  -1.57079633]\n"
     ]
    }
   ],
   "source": [
    "start_config = np.zeros(5) # Initial configuration\n",
    "\n",
    "planner = RRTStar(start=start_config, goal=goal_estimate, \n",
    "\t\t\t\t\tminCoords=robot.qlim[0][useful_config_idxs], maxCoords=robot.qlim[1][useful_config_idxs], \n",
    "\t\t\t\t\tgoal_test=goal_test, step_size=0.1, search_radius=0.4, collisionChecker=has_pairwise_collision)\n",
    "path = planner.run_rrt_star()\n",
    "\n",
    "if path:\n",
    "\tprint(\"Found path:\")\n",
    "\tfor config in path:\n",
    "\t\tprint(config)\n",
    "else:\n",
    "\tprint(\"Path not found.\")"
   ]
  },
  {
   "cell_type": "code",
   "execution_count": 15,
   "metadata": {},
   "outputs": [
    {
     "data": {
      "text/html": [
       "\n",
       "        <iframe\n",
       "            width=\"600\"\n",
       "            height=\"400\"\n",
       "            src=\"http://localhost:52002/?53002\"\n",
       "            frameborder=\"0\"\n",
       "            allowfullscreen\n",
       "            \n",
       "        ></iframe>\n",
       "        "
      ],
      "text/plain": [
       "<IPython.lib.display.IFrame at 0x7f31a456b310>"
      ]
     },
     "metadata": {},
     "output_type": "display_data"
    }
   ],
   "source": [
    "ee_axes = sg.Axes(0.1)\n",
    "goal_axes = sg.Axes(0.1)\n",
    "goal_axes.T = goal_ee_T\n",
    "\n",
    "# Make a new environment and add our robot\n",
    "env = Swift()\n",
    "env.launch(realtime=True, browser=\"notebook\")\n",
    "env.add(robot)\n",
    "env.add(ee_axes)\n",
    "env.add(goal_axes)\n",
    "\n",
    "# Change the robot configuration to the ready position\n",
    "# robot._T = np.diag(np.ones(4))\n",
    "# robot.qr = np.zeros(8)\n",
    "robot.q = pad(start_config[:])\n",
    "\n",
    "# Step the sim to view the robot in this configuration\n",
    "env.step(0.01)\n",
    "\n",
    "dt = 1.0\n",
    "time = 0\n",
    "\n",
    "for step_i in range(len(path)):\n",
    "\trobot.q = pad(path[step_i])\n",
    "\n",
    "\t# Update the ee axes\n",
    "\tee_axes.T = robot.fkine(robot.q, end='/ee_arm_link').A\n",
    "\t\n",
    "\t# Step the simulator by dt seconds\n",
    "\tenv.step(dt)\n",
    "\ttime += dt"
   ]
  },
  {
   "cell_type": "code",
   "execution_count": 18,
   "metadata": {},
   "outputs": [
    {
     "name": "stdout",
     "output_type": "stream",
     "text": [
      "0.38778460603014026\n",
      "0.3266339479208582\n",
      "0.2594045817544104\n",
      "0.2892099673641978\n",
      "0.3470878839633527\n",
      "0.3570227824602149\n",
      "0.3423401542593008\n",
      "0.19999999999999996\n",
      "0.3973084760208554\n",
      "0.36327206282351926\n",
      "0.19999999999999993\n",
      "0.3590859395602983\n",
      "0.0\n"
     ]
    }
   ],
   "source": [
    "for i in range(1, len(path)):\n",
    "\tprint(np.linalg.norm(path[i]-path[i-1]))"
   ]
  },
  {
   "cell_type": "code",
   "execution_count": null,
   "metadata": {},
   "outputs": [],
   "source": []
  }
 ],
 "metadata": {
  "kernelspec": {
   "display_name": "dkt-env",
   "language": "python",
   "name": "python3"
  },
  "language_info": {
   "codemirror_mode": {
    "name": "ipython",
    "version": 3
   },
   "file_extension": ".py",
   "mimetype": "text/x-python",
   "name": "python",
   "nbconvert_exporter": "python",
   "pygments_lexer": "ipython3",
   "version": "3.10.12"
  }
 },
 "nbformat": 4,
 "nbformat_minor": 2
}
